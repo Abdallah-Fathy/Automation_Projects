{
 "cells": [
  {
   "cell_type": "code",
   "execution_count": null,
   "id": "e4f62ec5",
   "metadata": {},
   "outputs": [],
   "source": [
    "import os\n",
    "import yt_dlp\n",
    "\n",
    "# Save the playlist in the same directory\n",
    "folderPath = os.getcwd()   \n",
    "\n",
    "def downloadPlaylist(playlist_url):\n",
    "    ydl_opts = {\n",
    "        'outtmpl': os.path.join(folderPath, '%(playlist_index)s - %(title)s.%(ext)s'),\n",
    "        'format': 'bestvideo+bestaudio/best',  # ffmpeg --> must download first\n",
    "        'merge_output_format': 'mp4',\n",
    "        'noplaylist': False\n",
    "    }\n",
    "    with yt_dlp.YoutubeDL(ydl_opts) as ydl:\n",
    "        ydl.download([playlist_url])\n",
    "\n",
    "playlist_url = input(\"Enter Youtube Playlist URL: \")\n",
    "downloadPlaylist(playlist_url)\n",
    "print(\"\\n[+] Download completed successfully!\")\n"
   ]
  }
 ],
 "metadata": {
  "language_info": {
   "name": "python"
  }
 },
 "nbformat": 4,
 "nbformat_minor": 5
}
